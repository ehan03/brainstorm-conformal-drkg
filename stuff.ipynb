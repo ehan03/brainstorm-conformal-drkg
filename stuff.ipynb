{
 "cells": [
  {
   "cell_type": "markdown",
   "metadata": {},
   "source": [
    "## math stuff"
   ]
  },
  {
   "cell_type": "markdown",
   "metadata": {},
   "source": [
    "$$\n",
    "\\begin{equation*}\n",
    "\\begin{aligned}\n",
    "\\max_{b}      \\quad & \\min\\left(\\log\\left(R^T b\\right) + A^T \\lambda \\right) - c^T \\lambda\\\\\n",
    "\\textrm{s.t.} \\quad & 1^T b = 1\\\\\n",
    "                    & b \\geq 0\\\\\n",
    "                    & \\lambda \\geq 0\n",
    "\\end{aligned}\n",
    "\\end{equation*}\n",
    "$$\n",
    "\n",
    "where\n",
    "\n",
    "$$ A = \\begin{pmatrix} -I \\\\ I \\end{pmatrix}, c = \\begin{pmatrix} -\\pi_l \\\\ \\pi_u \\end{pmatrix} $$"
   ]
  },
  {
   "cell_type": "markdown",
   "metadata": {},
   "source": [
    "## code stuff"
   ]
  },
  {
   "cell_type": "code",
   "execution_count": 2,
   "metadata": {},
   "outputs": [],
   "source": [
    "%load_ext autoreload\n",
    "%autoreload 2\n",
    "\n",
    "# standard library imports\n",
    "import itertools\n",
    "import warnings\n",
    "warnings.filterwarnings('ignore')\n",
    "\n",
    "# third party imports\n",
    "import numpy as np\n",
    "import pandas as pd\n",
    "from sklearn.linear_model import LogisticRegression\n",
    "from sklearn.metrics import brier_score_loss, log_loss, roc_auc_score\n",
    "from sklearn.model_selection import train_test_split\n",
    "from sklearn.pipeline import Pipeline\n",
    "from sklearn.preprocessing import StandardScaler\n",
    "\n",
    "# local imports\n",
    "from kelly import DistributionalRobustKelly, NaiveKelly\n",
    "from venn_abers import VennAbersCV"
   ]
  },
  {
   "cell_type": "code",
   "execution_count": 9,
   "metadata": {},
   "outputs": [],
   "source": [
    "n = 7\n",
    "variations = np.array(list(itertools.product([1, 0], repeat=n)))\n",
    "red_odds = np.array([1.469937, 1.261991, 2.02873, 1.46268, 1.629805, 1.733045, 2.885])\n",
    "blue_odds = np.array([2.743333, 3.975, 1.796695, 2.793333, 2.316667, 2.13, 1.433884])"
   ]
  },
  {
   "cell_type": "code",
   "execution_count": 10,
   "metadata": {},
   "outputs": [],
   "source": [
    "R = np.zeros(shape=(2 * n + 1, variations.shape[0]))\n",
    "R[-1, :] = 1\n",
    "for j in range(n):\n",
    "    R[2 * j, :] = np.where(variations[:, j] == 1, red_odds[j], 0)\n",
    "    R[2 * j + 1, :] = np.where(variations[:, j] == 0, blue_odds[j], 0)"
   ]
  },
  {
   "cell_type": "code",
   "execution_count": 13,
   "metadata": {},
   "outputs": [
    {
     "data": {
      "text/plain": [
       "array([[1.469937, 0.      , 1.261991, 0.      , 2.02873 , 0.      ,\n",
       "        1.46268 , 0.      , 1.629805, 0.      , 1.733045, 0.      ,\n",
       "        2.885   , 0.      , 1.      ],\n",
       "       [1.469937, 0.      , 1.261991, 0.      , 2.02873 , 0.      ,\n",
       "        1.46268 , 0.      , 1.629805, 0.      , 1.733045, 0.      ,\n",
       "        0.      , 1.433884, 1.      ]])"
      ]
     },
     "execution_count": 13,
     "metadata": {},
     "output_type": "execute_result"
    }
   ],
   "source": [
    "R.T[:2]"
   ]
  }
 ],
 "metadata": {
  "kernelspec": {
   "display_name": "ufc",
   "language": "python",
   "name": "python3"
  },
  "language_info": {
   "codemirror_mode": {
    "name": "ipython",
    "version": 3
   },
   "file_extension": ".py",
   "mimetype": "text/x-python",
   "name": "python",
   "nbconvert_exporter": "python",
   "pygments_lexer": "ipython3",
   "version": "3.9.18"
  }
 },
 "nbformat": 4,
 "nbformat_minor": 2
}
